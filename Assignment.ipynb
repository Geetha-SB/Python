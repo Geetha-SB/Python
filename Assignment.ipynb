{
  "cells": [
    {
      "cell_type": "markdown",
      "metadata": {
        "id": "oAUvd8DlsVyc"
      },
      "source": [
        "# Function Section"
      ]
    },
    {
      "cell_type": "markdown",
      "source": [
        ""
      ],
      "metadata": {
        "id": "dJdHcs4upnKZ"
      }
    },
    {
      "cell_type": "markdown",
      "metadata": {
        "id": "O6RwO_PKsVyg"
      },
      "source": [
        "# Question 1\n",
        "Write a function wordcount that takes a string as input, and outputs the word-count. The function should ignore any punctuation and capitalisation. Also, any numbers should be counted as a token-word \"NUMBER\".\n",
        "\n",
        "Example:\n",
        ">>> wordcount('This is a test. There are 14 words and 2 sentences in this test!')\n",
        "{'this': 2, 'is': 1, 'a': 1, 'test': 2, 'there': 1, 'are': 1, 'NUMBER': 2, 'words': 1, 'and': 1, 'sentences': 1, 'in': 1}\n",
        "\n"
      ]
    },
    {
      "cell_type": "code",
      "execution_count": null,
      "metadata": {
        "id": "zrhFClX_sVyh",
        "outputId": "63237372-9ff4-4698-ea0c-22ad078972d6",
        "colab": {
          "base_uri": "https://localhost:8080/"
        }
      },
      "outputs": [
        {
          "output_type": "stream",
          "name": "stdout",
          "text": [
            "Length of the word is: 12\n",
            "{'This': 1, 'is': 1, 'a': 1, 'test.': 1, 'There': 1, 'are': 1, '14': 1, 'words': 1, 'and': 1, '2': 1, 'sentences': 1, 'in': 1, 'this': 1, 'test!': 1}\n"
          ]
        }
      ],
      "source": [
        "import re\n",
        "def word_count(str):\n",
        "    counts = dict()\n",
        "    words = str.split()\n",
        "    Length = len(re.findall(\"[a-zA-Z_]+\", str))\n",
        "    print(\"Length of the word is:\", Length)  \n",
        "    for word in words:\n",
        "        if word in counts:\n",
        "            counts[word] += 1\n",
        "        else:\n",
        "            counts[word] = 1\n",
        "\n",
        "    return counts\n",
        "\n",
        "print(word_count('This is a test. There are 14 words and 2 sentences in this test!'))"
      ]
    },
    {
      "cell_type": "markdown",
      "metadata": {
        "id": "VcDv1eprsVyi"
      },
      "source": [
        "# Question 2\n",
        "Write a function wordsearch that takes two arguments:\n",
        "- a list of strings\n",
        "- a one-word string\n",
        "and outputs the string which contains the maximum number of occurences of the word (ignoring punctuation and capitalisation)\n",
        "Example:\n",
        ">>> wordsearch(['Sentence 1', 'This is sentence number 2.', 'Sentence 3: one more sentence.'], 'sentence')\n",
        "'Sentence 3: one more sentence.'"
      ]
    },
    {
      "cell_type": "code",
      "source": [
        ""
      ],
      "metadata": {
        "id": "W_z223Oe7ZF4"
      },
      "execution_count": null,
      "outputs": []
    },
    {
      "cell_type": "markdown",
      "source": [
        ""
      ],
      "metadata": {
        "id": "_XRZpKfV7Yp_"
      }
    },
    {
      "cell_type": "markdown",
      "metadata": {
        "id": "52naF4nFsVyj"
      },
      "source": [
        "# Pandas Section\n"
      ]
    },
    {
      "cell_type": "code",
      "execution_count": null,
      "metadata": {
        "id": "X-FAjQCpsVyk"
      },
      "outputs": [],
      "source": [
        "#question 1 : show common values from two arrays\n",
        "#question 2 compare two array and remove the repative array in a\n",
        "#ques 3,  remove dupicates from column 1 and show only first occurances"
      ]
    },
    {
      "cell_type": "code",
      "execution_count": null,
      "metadata": {
        "id": "3lqYDitssVyl"
      },
      "outputs": [],
      "source": [
        "import numpy as np\n",
        "import pandas as pd\n",
        "\n",
        "a = np.array([1,2,3,4,5])\n",
        "b = np.array([2,3,6,7,8])"
      ]
    },
    {
      "cell_type": "code",
      "execution_count": null,
      "metadata": {
        "id": "6OamqveysVyl",
        "outputId": "3fce9fd4-db79-4dc8-b5cf-405a2349cb8a",
        "colab": {
          "base_uri": "https://localhost:8080/"
        }
      },
      "outputs": [
        {
          "output_type": "stream",
          "name": "stdout",
          "text": [
            "[2 3]\n"
          ]
        }
      ],
      "source": [
        "#question 1 : show common values\n",
        "import numpy as np\n",
        "import pandas as pd\n",
        "\n",
        "a = np.array([1,2,3,4,5])\n",
        "b = np.array([2,3,6,7,8])\n",
        "print(np.intersect1d(a,b))"
      ]
    },
    {
      "cell_type": "code",
      "execution_count": null,
      "metadata": {
        "id": "t6zE_1JDsVym",
        "outputId": "04c32daa-46d0-45f7-863e-6d538d12975f",
        "colab": {
          "base_uri": "https://localhost:8080/"
        }
      },
      "outputs": [
        {
          "output_type": "stream",
          "name": "stdout",
          "text": [
            "[1 4 5]\n"
          ]
        }
      ],
      "source": [
        "#question 2 compare two array and remove the repative array in a\n",
        "import numpy as np\n",
        "import pandas as pd\n",
        "\n",
        "a = np.array([1,2,3,4,5])\n",
        "b = np.array([2,3,6,7,8])\n",
        "difference = np.setdiff1d(a,b)\n",
        "print(difference)\n",
        "\n"
      ]
    },
    {
      "cell_type": "code",
      "execution_count": null,
      "metadata": {
        "id": "N7yqSTqYsVym",
        "outputId": "3dd8ec73-20af-4482-be85-99be90a01615",
        "colab": {
          "base_uri": "https://localhost:8080/"
        }
      },
      "outputs": [
        {
          "output_type": "stream",
          "name": "stdout",
          "text": [
            "[[1 2 3 4 5]\n",
            " [2 3 6 7 8]]\n",
            "\n",
            "[1 2 3 4 5 6 7 8]\n"
          ]
        }
      ],
      "source": [
        "#ques 3,  remove dupicates from column 2 and show only first occurances\n",
        "import numpy as np\n",
        "import pandas as pd\n",
        "\n",
        "a = np.array([1,2,3,4,5])\n",
        "b = np.array([2,3,6,7,8])\n",
        "\n",
        "new_array = np.array([a,b])\n",
        "print(new_array)\n",
        "print(\"\")\n",
        "\n",
        "unique_arr = np.unique(new_array)\n",
        "print(unique_arr)\n"
      ]
    },
    {
      "cell_type": "code",
      "execution_count": null,
      "metadata": {
        "id": "mfVjHJSBsVyn"
      },
      "outputs": [],
      "source": [
        ""
      ]
    },
    {
      "cell_type": "markdown",
      "metadata": {
        "id": "NFN_cO6dsVyn"
      },
      "source": [
        "# Question 1\n",
        "Load purchase data and price data from purchases.csv and prices.csv"
      ]
    },
    {
      "cell_type": "code",
      "execution_count": 152,
      "metadata": {
        "id": "NmbNbmy-sVyo",
        "colab": {
          "base_uri": "https://localhost:8080/"
        },
        "cellView": "code",
        "outputId": "9a1315e5-27ed-490f-feb4-d3c4c4333839"
      },
      "outputs": [
        {
          "output_type": "stream",
          "name": "stdout",
          "text": [
            "            Product  Price  ... Quantity_purchased total_sale\n",
            "0     Chocolate bar    0.5  ...                  2        1.0\n",
            "1     Chocolate bar    0.5  ...                  1        0.5\n",
            "2     Chocolate bar    0.5  ...                  1        0.5\n",
            "3     Chocolate bar    0.5  ...                  3        1.5\n",
            "4     Chocolate bar    0.5  ...                  1        0.5\n",
            "5     Chocolate bar    0.5  ...                  3        1.5\n",
            "6     Chocolate bar    0.5  ...                  3        1.5\n",
            "7     Chocolate bar    0.5  ...                  3        1.5\n",
            "8            Coffee    2.0  ...                  3        6.0\n",
            "9            Coffee    2.0  ...                  2        4.0\n",
            "10           Coffee    2.0  ...                  3        6.0\n",
            "11           Coffee    2.0  ...                  2        4.0\n",
            "12           Coffee    2.0  ...                  2        4.0\n",
            "13           Coffee    2.0  ...                  2        4.0\n",
            "14           Coffee    2.0  ...                  1        2.0\n",
            "15           Coffee    2.0  ...                  3        6.0\n",
            "16           Coffee    2.0  ...                  2        4.0\n",
            "17           Coffee    2.0  ...                  3        6.0\n",
            "18           Coffee    2.0  ...                  1        2.0\n",
            "19           Coffee    2.0  ...                  2        4.0\n",
            "20           Coffee    2.0  ...                  3        6.0\n",
            "21           Coffee    2.0  ...                  2        4.0\n",
            "22            Drink    1.0  ...                  1        1.0\n",
            "23            Drink    1.0  ...                  2        2.0\n",
            "24            Drink    1.0  ...                  3        3.0\n",
            "25            Drink    1.0  ...                  1        1.0\n",
            "26            Drink    1.0  ...                  3        3.0\n",
            "27            Drink    1.0  ...                  1        1.0\n",
            "28            Drink    1.0  ...                  1        1.0\n",
            "29            Drink    1.0  ...                  1        1.0\n",
            "30            Drink    1.0  ...                  2        2.0\n",
            "31            Drink    1.0  ...                  3        3.0\n",
            "32     Egg sandwich    4.5  ...                  1        4.5\n",
            "33     Egg sandwich    4.5  ...                  3       13.5\n",
            "34     Egg sandwich    4.5  ...                  2        9.0\n",
            "35     Egg sandwich    4.5  ...                  2        9.0\n",
            "36     Egg sandwich    4.5  ...                  2        9.0\n",
            "37     Egg sandwich    4.5  ...                  1        4.5\n",
            "38     Egg sandwich    4.5  ...                  2        9.0\n",
            "39  Salami sandwich    5.0  ...                  2       10.0\n",
            "40  Salami sandwich    5.0  ...                  2       10.0\n",
            "41  Salami sandwich    5.0  ...                  2       10.0\n",
            "42  Salami sandwich    5.0  ...                  3       15.0\n",
            "43  Salami sandwich    5.0  ...                  1        5.0\n",
            "44  Salami sandwich    5.0  ...                  3       15.0\n",
            "45  Salami sandwich    5.0  ...                  2       10.0\n",
            "46  Salami sandwich    5.0  ...                  1        5.0\n",
            "47  Salami sandwich    5.0  ...                  1        5.0\n",
            "48  Salami sandwich    5.0  ...                  2       10.0\n",
            "49  Salami sandwich    5.0  ...                  3       15.0\n",
            "\n",
            "[50 rows x 6 columns]\n"
          ]
        }
      ],
      "source": [
        "import pandas as pd\n",
        "prices = pd.read_csv('/content/prices.csv')\n",
        "purchases = pd.read_csv('/content/purchases.csv') \n",
        "#print(prices )\n",
        "#print(\"\")\n",
        "#print(purchases )\n",
        "#print(\"\")\n",
        "\n",
        "output1 = pd.merge(prices , purchases , \n",
        "                   on='Product', \n",
        "                   how='inner')\n",
        "output1['Purchase date'] = pd.to_datetime(output1['Purchase date'].astype('str'), format = '%Y%m%d')\n",
        "output1['total_sale']=output1['Quantity_purchased']*output1['Price']\n",
        "# displaying result\n",
        "\n",
        "output1.to_csv( \"output1.csv\", index=False, encoding='utf-8-sig')\n",
        "print(output1)"
      ]
    },
    {
      "cell_type": "code",
      "execution_count": 33,
      "metadata": {
        "cellView": "code",
        "id": "4aNOhQky0N2b"
      },
      "outputs": [],
      "source": [
        ""
      ]
    },
    {
      "cell_type": "markdown",
      "metadata": {
        "id": "dcK_-iiGsVyo"
      },
      "source": [
        "# Question 2\n",
        "Calculate who has bought the largest number of drinks IN TOTAL (across all their several purchases, note there is a Quantity column) and how many drinks he/she has purchased"
      ]
    },
    {
      "cell_type": "code",
      "execution_count": 167,
      "metadata": {
        "id": "ppBC9lissVyo",
        "colab": {
          "base_uri": "https://localhost:8080/"
        },
        "outputId": "4b6adbad-7f75-4545-c454-49541348e84a"
      },
      "outputs": [
        {
          "output_type": "stream",
          "name": "stdout",
          "text": [
            "   Product  Price Customer Purchase date  Quantity_purchased  total_sale\n",
            "22   Drink    1.0    Carol    2018-05-04                   1         1.0\n",
            "23   Drink    1.0    Frank    2018-05-23                   2         2.0\n",
            "24   Drink    1.0    Carol    2018-05-18                   3         3.0\n",
            "25   Drink    1.0    Frank    2018-06-22                   1         1.0\n",
            "26   Drink    1.0    Frank    2018-05-01                   3         3.0\n",
            "27   Drink    1.0    Carol    2018-05-21                   1         1.0\n",
            "28   Drink    1.0      Bob    2018-05-27                   1         1.0\n",
            "29   Drink    1.0    Carol    2018-05-29                   1         1.0\n",
            "30   Drink    1.0    Frank    2018-05-29                   2         2.0\n",
            "31   Drink    1.0    Alice    2018-06-03                   3         3.0\n",
            "Customer\n",
            "Bob      1\n",
            "Alice    3\n",
            "Carol    6\n",
            "Frank    8\n",
            "Name: Quantity_purchased, dtype: int64\n"
          ]
        }
      ],
      "source": [
        "import pandas as pd\n",
        "import numpy as np\n",
        "output1 = pd.read_csv(\"output1.csv\")\n",
        "\n",
        "#to print all values of drink category\n",
        "options = ['Drink'] \n",
        "drink_cat = output1[output1['Product'].isin(options)] \n",
        "print(drink_cat)\n",
        "\n",
        "# customers with largest number of drinks \n",
        "drink_count = drink_cat.groupby(['Product','Customer'])['Quantity_purchased'].sum().sort_values()\n",
        "print(drink_count)"
      ]
    },
    {
      "cell_type": "markdown",
      "metadata": {
        "id": "uh_G1fsdsVyo"
      },
      "source": [
        "# Question 3\n",
        "Calculate the total sales in GBP of all types of sandwiches, summarised per month"
      ]
    },
    {
      "cell_type": "code",
      "execution_count": 225,
      "metadata": {
        "id": "m40zIpt4sVyo",
        "colab": {
          "base_uri": "https://localhost:8080/"
        },
        "outputId": "550f4389-5662-4023-df4e-ff612c69d087"
      },
      "outputs": [
        {
          "output_type": "stream",
          "name": "stdout",
          "text": [
            "       month  total_sale\n",
            "0 2018-05-01        77.0\n",
            "1 2018-06-01        91.5\n"
          ]
        }
      ],
      "source": [
        "\n",
        "import pandas as pd\n",
        "import dateutil\n",
        "output1 = pd.read_csv(\"output1.csv\")\n",
        "#print(output1)\n",
        "\n",
        "output1['month'] = output1['Purchase date'].values.astype('datetime64[M]')\n",
        "sandwich_cat =output1[output1.Product.str.contains(\"sandwich\")]\n",
        "#print(sandwich_cat)\n",
        "sales = sandwich_cat.groupby(['month'])[['total_sale']].sum().reset_index()\n",
        "#sales.head()\n",
        "print(sales)\n",
        "\n"
      ]
    },
    {
      "cell_type": "markdown",
      "metadata": {
        "id": "vyaqMC47sVyp"
      },
      "source": [
        "# Numpy Section\n",
        "M = np.array([[1, 5, 1], [10, 7, 1.5], [6.9, 5, 1], [19, 9, 100], [11, 11, 11]])"
      ]
    },
    {
      "cell_type": "markdown",
      "metadata": {
        "id": "tRjE0ZY2sVyp"
      },
      "source": [
        "# Question 1\n",
        "Filter M to only keep rows where the maximum value is >= 10"
      ]
    },
    {
      "cell_type": "code",
      "execution_count": null,
      "metadata": {
        "id": "QwqtIbmksVyp",
        "colab": {
          "base_uri": "https://localhost:8080/"
        },
        "outputId": "86854f3b-f1ef-4fdb-9719-cd398a722135"
      },
      "outputs": [
        {
          "output_type": "stream",
          "name": "stdout",
          "text": [
            "[ 19 100  11  11  11]\n"
          ]
        }
      ],
      "source": [
        "import numpy as np\n",
        "\n",
        "M = np.array([[1, 5, 1], [10, 7, 1.5], [6.9, 5, 1], [19, 9, 100], [11, 11, 11]],dtype='int16')\n",
        "\n",
        "new_arr = M[M> 10]\n",
        "\n",
        "print(new_arr)"
      ]
    },
    {
      "cell_type": "markdown",
      "metadata": {
        "id": "PrcPLbYLsVyq"
      },
      "source": [
        "# Question 2\n",
        "Sort the columns of M based on the mean of each column (largest first)"
      ]
    },
    {
      "cell_type": "markdown",
      "source": [
        "# New Section"
      ],
      "metadata": {
        "id": "FXN20CSm10jJ"
      }
    },
    {
      "cell_type": "code",
      "execution_count": null,
      "metadata": {
        "id": "EJrrh6AvsVyq",
        "colab": {
          "base_uri": "https://localhost:8080/"
        },
        "outputId": "9bfb69f5-abd2-48a8-c873-2f25cfa017cf"
      },
      "outputs": [
        {
          "output_type": "stream",
          "name": "stdout",
          "text": [
            "[22.9   9.58  7.4 ]\n"
          ]
        }
      ],
      "source": [
        "M = np.array([[1, 5, 1], \n",
        "              [10, 7, 1.5],\n",
        "              [6.9, 5, 1], \n",
        "              [19, 9, 100],\n",
        "              [11, 11, 11]])\n",
        "\n",
        "\n",
        "mean = -np.sort(np.mean(-M,axis=0))\n",
        "print(mean)\n",
        "\n"
      ]
    }
  ],
  "metadata": {
    "kernelspec": {
      "display_name": "Python 3",
      "language": "python",
      "name": "python3"
    },
    "language_info": {
      "codemirror_mode": {
        "name": "ipython",
        "version": 3
      },
      "file_extension": ".py",
      "mimetype": "text/x-python",
      "name": "python",
      "nbconvert_exporter": "python",
      "pygments_lexer": "ipython3",
      "version": "3.7.5"
    },
    "toc": {
      "base_numbering": 1,
      "nav_menu": {},
      "number_sections": true,
      "sideBar": true,
      "skip_h1_title": false,
      "title_cell": "Table of Contents",
      "title_sidebar": "Contents",
      "toc_cell": false,
      "toc_position": {},
      "toc_section_display": true,
      "toc_window_display": false
    },
    "varInspector": {
      "cols": {
        "lenName": 16,
        "lenType": 16,
        "lenVar": 40
      },
      "kernels_config": {
        "python": {
          "delete_cmd_postfix": "",
          "delete_cmd_prefix": "del ",
          "library": "var_list.py",
          "varRefreshCmd": "print(var_dic_list())"
        },
        "r": {
          "delete_cmd_postfix": ") ",
          "delete_cmd_prefix": "rm(",
          "library": "var_list.r",
          "varRefreshCmd": "cat(var_dic_list()) "
        }
      },
      "types_to_exclude": [
        "module",
        "function",
        "builtin_function_or_method",
        "instance",
        "_Feature"
      ],
      "window_display": false
    },
    "colab": {
      "name": "Copy of Assignment.ipynb",
      "provenance": [],
      "collapsed_sections": []
    }
  },
  "nbformat": 4,
  "nbformat_minor": 0
}