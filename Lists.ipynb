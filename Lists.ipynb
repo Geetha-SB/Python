{
 "cells": [
  {
   "cell_type": "code",
   "execution_count": 1,
   "id": "e711c9b9",
   "metadata": {},
   "outputs": [
    {
     "name": "stdout",
     "output_type": "stream",
     "text": [
      "b\n",
      "b\n",
      "['b', 'c']\n",
      "['z', 'b', 'c']\n",
      "['z', 2, 3]\n",
      "[1, 2, 3, 5]\n"
     ]
    }
   ],
   "source": [
    "new_list = ['a', 'b', 'c']\n",
    "print(new_list[1])\n",
    "print(new_list[-2])\n",
    "print(new_list[1:3])\n",
    "new_list[0] = 'z'\n",
    "print(new_list)\n",
    "\n",
    "my_list = [1,2,3]\n",
    "bonus = my_list + [5]\n",
    "my_list[0] = 'z'\n",
    "print(my_list)\n",
    "print(bonus)"
   ]
  },
  {
   "cell_type": "code",
   "execution_count": null,
   "id": "e852b617",
   "metadata": {},
   "outputs": [],
   "source": []
  }
 ],
 "metadata": {
  "kernelspec": {
   "display_name": "Python 3 (ipykernel)",
   "language": "python",
   "name": "python3"
  },
  "language_info": {
   "codemirror_mode": {
    "name": "ipython",
    "version": 3
   },
   "file_extension": ".py",
   "mimetype": "text/x-python",
   "name": "python",
   "nbconvert_exporter": "python",
   "pygments_lexer": "ipython3",
   "version": "3.9.7"
  }
 },
 "nbformat": 4,
 "nbformat_minor": 5
}
