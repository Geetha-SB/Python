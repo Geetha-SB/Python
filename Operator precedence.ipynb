{
 "cells": [
  {
   "cell_type": "code",
   "execution_count": 1,
   "id": "364c6474",
   "metadata": {},
   "outputs": [
    {
     "name": "stdout",
     "output_type": "stream",
     "text": [
      "45.0\n",
      "45.0\n",
      "45.0\n",
      "25.0\n",
      "25\n"
     ]
    }
   ],
   "source": [
    "print((5 + 4) * 10 / 2)\n",
    "\n",
    "print(((5 + 4) * 10) / 2)\n",
    "\n",
    "print((5 + 4) * (10 / 2))\n",
    "\n",
    "print(5 + (4 * 10) / 2)\n",
    "\n",
    "print(5 + 4 * 10 // 2)"
   ]
  },
  {
   "cell_type": "code",
   "execution_count": null,
   "id": "894b1086",
   "metadata": {},
   "outputs": [],
   "source": []
  }
 ],
 "metadata": {
  "kernelspec": {
   "display_name": "Python 3 (ipykernel)",
   "language": "python",
   "name": "python3"
  },
  "language_info": {
   "codemirror_mode": {
    "name": "ipython",
    "version": 3
   },
   "file_extension": ".py",
   "mimetype": "text/x-python",
   "name": "python",
   "nbconvert_exporter": "python",
   "pygments_lexer": "ipython3",
   "version": "3.9.7"
  }
 },
 "nbformat": 4,
 "nbformat_minor": 5
}
