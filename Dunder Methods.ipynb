{
 "cells": [
  {
   "cell_type": "code",
   "execution_count": 2,
   "id": "67637903",
   "metadata": {},
   "outputs": [
    {
     "name": "stdout",
     "output_type": "stream",
     "text": [
      "red\n",
      "red\n",
      "5\n",
      "yes??\n",
      "Yoyo\n"
     ]
    }
   ],
   "source": [
    "#add 3 more magic/dunder methods of your choice to this Toy class. \n",
    "class Toy():\n",
    "  def __init__(self, color, age):\n",
    "    self.color = color\n",
    "    self.age = age\n",
    "    self.my_dict = {\n",
    "        'name':'Yoyo',\n",
    "        'has_pets': False,\n",
    "    }\n",
    "\n",
    "  def __str__(self):\n",
    "    return f\"{self.color}\"\n",
    "\n",
    "  def __len__(self):\n",
    "    return 5\n",
    "\n",
    "  def __del__(self):\n",
    "    return \"deleted\"\n",
    "\n",
    "  def __call__(self):\n",
    "      return('yes??')\n",
    "\n",
    "  def __getitem__(self,i):\n",
    "      return self.my_dict[i]\n",
    "\n",
    "\n",
    "action_figure = Toy('red', 0)\n",
    "print(action_figure.__str__())\n",
    "print(str(action_figure))\n",
    "print(len(action_figure))\n",
    "print(action_figure())\n",
    "print(action_figure['name'])"
   ]
  },
  {
   "cell_type": "code",
   "execution_count": null,
   "id": "1351204b",
   "metadata": {},
   "outputs": [],
   "source": []
  }
 ],
 "metadata": {
  "kernelspec": {
   "display_name": "Python 3 (ipykernel)",
   "language": "python",
   "name": "python3"
  },
  "language_info": {
   "codemirror_mode": {
    "name": "ipython",
    "version": 3
   },
   "file_extension": ".py",
   "mimetype": "text/x-python",
   "name": "python",
   "nbconvert_exporter": "python",
   "pygments_lexer": "ipython3",
   "version": "3.9.7"
  }
 },
 "nbformat": 4,
 "nbformat_minor": 5
}
