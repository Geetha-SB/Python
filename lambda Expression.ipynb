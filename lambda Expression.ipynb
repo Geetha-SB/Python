{
 "cells": [
  {
   "cell_type": "code",
   "execution_count": 1,
   "id": "411c293a",
   "metadata": {},
   "outputs": [
    {
     "name": "stdout",
     "output_type": "stream",
     "text": [
      "[1, 4, 9]\n",
      "[(10, -1), (0, 2), (5, 2), (9, 9)]\n"
     ]
    }
   ],
   "source": [
    "#A Lambda Function in Python programming is an anonymous function or a function having no name.\n",
    "#It is a small and restricted function having no more than one line. \n",
    "#Just like a normal function, a Lambda function can have multiple arguments with one expression.\n",
    "\n",
    "# lambda arguments : expression\n",
    "\n",
    "#Ex: x = lambda a : a + 10\n",
    "#    print(x(5))\n",
    "\n",
    "print(list(map(lambda num: num**2, [1,2,3])))\n",
    "\n",
    "a = [(0, 2), (5, 2), (9, 9), (10, -1)]\n",
    "a.sort(key=lambda x: x[1])\n",
    "\n",
    "print(a)"
   ]
  },
  {
   "cell_type": "code",
   "execution_count": null,
   "id": "d27e13c7",
   "metadata": {},
   "outputs": [],
   "source": []
  }
 ],
 "metadata": {
  "kernelspec": {
   "display_name": "Python 3 (ipykernel)",
   "language": "python",
   "name": "python3"
  },
  "language_info": {
   "codemirror_mode": {
    "name": "ipython",
    "version": 3
   },
   "file_extension": ".py",
   "mimetype": "text/x-python",
   "name": "python",
   "nbconvert_exporter": "python",
   "pygments_lexer": "ipython3",
   "version": "3.9.7"
  }
 },
 "nbformat": 4,
 "nbformat_minor": 5
}
