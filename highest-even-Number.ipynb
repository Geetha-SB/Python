{
 "cells": [
  {
   "cell_type": "code",
   "execution_count": 1,
   "id": "6d35ed33",
   "metadata": {},
   "outputs": [
    {
     "name": "stdout",
     "output_type": "stream",
     "text": [
      "10\n"
     ]
    }
   ],
   "source": [
    "def highest_even(li):\n",
    "  evens = []\n",
    "  for item in li:\n",
    "    if item % 2 == 0:\n",
    "      evens.append(item)\n",
    "  return max(evens)\n",
    "\n",
    "print(highest_even([10,1,2,3,4,8]))"
   ]
  },
  {
   "cell_type": "code",
   "execution_count": null,
   "id": "d844096a",
   "metadata": {},
   "outputs": [],
   "source": []
  }
 ],
 "metadata": {
  "kernelspec": {
   "display_name": "Python 3 (ipykernel)",
   "language": "python",
   "name": "python3"
  },
  "language_info": {
   "codemirror_mode": {
    "name": "ipython",
    "version": 3
   },
   "file_extension": ".py",
   "mimetype": "text/x-python",
   "name": "python",
   "nbconvert_exporter": "python",
   "pygments_lexer": "ipython3",
   "version": "3.9.7"
  }
 },
 "nbformat": 4,
 "nbformat_minor": 5
}
