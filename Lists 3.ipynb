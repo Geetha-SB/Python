{
 "cells": [
  {
   "cell_type": "code",
   "execution_count": 7,
   "id": "c46498d1",
   "metadata": {},
   "outputs": [
    {
     "name": "stdout",
     "output_type": "stream",
     "text": [
      "['Simon', 'Patty', 'Joy', 'Carrie', 'Amira', 'Chu', 'Stanley']\n",
      "['Amira', 'Carrie', 'Chu', 'Joy', 'Patty', 'Simon', 'Stanley']\n"
     ]
    }
   ],
   "source": [
    "#fix this code so that it prints a sorted list of all of our friends (alphabetical). \n",
    "\n",
    "friends = ['Simon', 'Patty', 'Joy', 'Carrie', 'Amira', 'Chu']\n",
    "\n",
    "new_friend = ['Stanley']\n",
    "\n",
    "friends.extend(new_friend)\n",
    "#friends.append('Stanley')\n",
    "\n",
    "print(friends)\n",
    "\n",
    "print(sorted(friends))\n",
    "\n",
    "#print(friends.sort() + new_friend)\n",
    "\n",
    "# Solution: (keep in mind there are multiple ways to do this, so your answer may vary. As long as it works that's all that matters!)\n",
    "\n"
   ]
  },
  {
   "cell_type": "code",
   "execution_count": null,
   "id": "65a34c05",
   "metadata": {},
   "outputs": [],
   "source": []
  }
 ],
 "metadata": {
  "kernelspec": {
   "display_name": "Python 3 (ipykernel)",
   "language": "python",
   "name": "python3"
  },
  "language_info": {
   "codemirror_mode": {
    "name": "ipython",
    "version": 3
   },
   "file_extension": ".py",
   "mimetype": "text/x-python",
   "name": "python",
   "nbconvert_exporter": "python",
   "pygments_lexer": "ipython3",
   "version": "3.9.7"
  }
 },
 "nbformat": 4,
 "nbformat_minor": 5
}
