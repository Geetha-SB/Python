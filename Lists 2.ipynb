{
 "cells": [
  {
   "cell_type": "code",
   "execution_count": 2,
   "id": "ec249aff",
   "metadata": {},
   "outputs": [
    {
     "name": "stdout",
     "output_type": "stream",
     "text": [
      "['Apples', 'Oranges', 'Blueberries']\n"
     ]
    }
   ],
   "source": [
    "# using this list, \n",
    "# 1. Remove the Banana from the list\n",
    "\n",
    "# 2. Remove \"Blueberries\" from the list.\n",
    "\n",
    "# 3. Put \"Kiwi\" at the end of the list.\n",
    "\n",
    "# 4. Add \"Apples\" at the beginning of the list\n",
    "\n",
    "# 5. Count how many apples in the basket\n",
    "\n",
    "# 6. empty the basket\n",
    "basket = [\"Banana\", \"Apples\", \"Oranges\", \"Blueberries\"];\n",
    "#1 -\n",
    "basket.remove('Banana')\n",
    "#2 -basket.pop()\n",
    "#3 - basket.append('Kiwi')\n",
    "#4 - basket.insert(0, 'Apples')\n",
    "#5 - basket.count('Apples')\n",
    "#6 - basket.clear()\n",
    "print(basket)"
   ]
  },
  {
   "cell_type": "code",
   "execution_count": null,
   "id": "9b1e8ff2",
   "metadata": {},
   "outputs": [],
   "source": []
  }
 ],
 "metadata": {
  "kernelspec": {
   "display_name": "Python 3 (ipykernel)",
   "language": "python",
   "name": "python3"
  },
  "language_info": {
   "codemirror_mode": {
    "name": "ipython",
    "version": 3
   },
   "file_extension": ".py",
   "mimetype": "text/x-python",
   "name": "python",
   "nbconvert_exporter": "python",
   "pygments_lexer": "ipython3",
   "version": "3.9.7"
  }
 },
 "nbformat": 4,
 "nbformat_minor": 5
}
