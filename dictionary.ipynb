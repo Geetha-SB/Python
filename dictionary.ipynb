{
 "cells": [
  {
   "cell_type": "code",
   "execution_count": 18,
   "id": "9033140b",
   "metadata": {},
   "outputs": [
    {
     "name": "stdout",
     "output_type": "stream",
     "text": [
      "dict_keys(['age', 'username', 'weapons', 'is_active', 'clan'])\n",
      "{'age': 22, 'username': 'Shogun', 'weapons': ['katana', 'shuriken', 'shield'], 'is_active': True, 'clan': 'Japan'}\n",
      "{'age': 22, 'username': 'Shogun', 'weapons': ['katana', 'shuriken', 'shield'], 'is_active': True, 'clan': 'Japan', 'is_banned': False}\n",
      "{'age': 22, 'username': 'Shogun', 'weapons': ['katana', 'shuriken', 'shield'], 'is_active': True, 'clan': 'Japan', 'is_banned': True}\n",
      "{'age': 100, 'username': 'Timbo', 'weapons': ['katana', 'shuriken', 'shield'], 'is_active': True, 'clan': 'Japan', 'is_banned': True}\n"
     ]
    }
   ],
   "source": [
    "#1 Create a user profile for your new game.\n",
    "\n",
    "#This user profile will be stored in a dictionary with keys: 'age', 'username', 'weapons', 'is_active' and 'clan'\n",
    "\n",
    "#2 iterate and print all the keys in the above user.\n",
    "\n",
    "#3 Add a new weapon to your user\n",
    "\n",
    "#4 Add a new key to include 'is_banned'. Set it to false\n",
    "\n",
    "#5 Ban the user by setting the previous key to True\n",
    "\n",
    "#6 create a new user2 my copying the previous user and update the age value and username value.\n",
    "\n",
    "#1 Create a user profile for your new game. This user profile will be stored in a dictionary with keys: 'age', 'username', 'weapons', 'is_active' and 'clan'\n",
    "user = {\n",
    "      'age': 22,\n",
    "      'username': 'Shogun',\n",
    "      'weapons': ['katana', 'shuriken'],\n",
    "      'is_active': True,\n",
    "      'clan': 'Japan'\n",
    "  }\n",
    "                                            #2 iterate and print all the keys in the above user.\n",
    "print(user.keys())\n",
    "\n",
    "                                            #3 Add a new weapon to your user\n",
    "user['weapons'].append('shield')\n",
    "print(user)\n",
    "\n",
    "                                             #4 Add a new key to include 'is_banned'. Set it to false\n",
    "user.update({'is_banned': False}) \n",
    "print(user)\n",
    "s\n",
    "                                            #5 Ban the user by setting the previous key to True\n",
    "user['is_banned'] = True\n",
    "print(user)\n",
    "\n",
    "                                            #6 create a new user2 my copying the previous user and update the age value and username value. \n",
    "user2 = user.copy()\n",
    "user2.update({'age': 100, 'username': 'Timbo'})\n",
    "print(user2)\n",
    "\n"
   ]
  },
  {
   "cell_type": "code",
   "execution_count": null,
   "id": "b366be59",
   "metadata": {},
   "outputs": [],
   "source": []
  }
 ],
 "metadata": {
  "kernelspec": {
   "display_name": "Python 3 (ipykernel)",
   "language": "python",
   "name": "python3"
  },
  "language_info": {
   "codemirror_mode": {
    "name": "ipython",
    "version": 3
   },
   "file_extension": ".py",
   "mimetype": "text/x-python",
   "name": "python",
   "nbconvert_exporter": "python",
   "pygments_lexer": "ipython3",
   "version": "3.9.7"
  }
 },
 "nbformat": 4,
 "nbformat_minor": 5
}
