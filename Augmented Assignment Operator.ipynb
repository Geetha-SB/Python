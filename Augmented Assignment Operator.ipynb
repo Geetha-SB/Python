{
 "cells": [
  {
   "cell_type": "code",
   "execution_count": 1,
   "id": "15c77e3c",
   "metadata": {},
   "outputs": [
    {
     "name": "stdout",
     "output_type": "stream",
     "text": [
      "6\n"
     ]
    }
   ],
   "source": [
    "counter = 0\n",
    "\n",
    "counter += 1\n",
    "counter += 1\n",
    "counter += 1\n",
    "counter += 1\n",
    "counter -= 1\n",
    "counter *=2\n",
    "\n",
    "#Before you click RUN, guess what the counter variable holds in memory!\n",
    "print(counter)"
   ]
  },
  {
   "cell_type": "code",
   "execution_count": null,
   "id": "548db671",
   "metadata": {},
   "outputs": [],
   "source": []
  }
 ],
 "metadata": {
  "kernelspec": {
   "display_name": "Python 3 (ipykernel)",
   "language": "python",
   "name": "python3"
  },
  "language_info": {
   "codemirror_mode": {
    "name": "ipython",
    "version": 3
   },
   "file_extension": ".py",
   "mimetype": "text/x-python",
   "name": "python",
   "nbconvert_exporter": "python",
   "pygments_lexer": "ipython3",
   "version": "3.9.7"
  }
 },
 "nbformat": 4,
 "nbformat_minor": 5
}
